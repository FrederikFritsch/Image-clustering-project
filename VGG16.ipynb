{
 "cells": [
  {
   "cell_type": "code",
   "execution_count": 1,
   "id": "4bc5830f",
   "metadata": {},
   "outputs": [
    {
     "name": "stderr",
     "output_type": "stream",
     "text": [
      "2022-11-26 14:40:13.384985: I tensorflow/core/platform/cpu_feature_guard.cc:193] This TensorFlow binary is optimized with oneAPI Deep Neural Network Library (oneDNN) to use the following CPU instructions in performance-critical operations:  AVX2 FMA\n",
      "To enable them in other operations, rebuild TensorFlow with the appropriate compiler flags.\n",
      "2022-11-26 14:40:13.897120: W tensorflow/stream_executor/platform/default/dso_loader.cc:64] Could not load dynamic library 'libcudart.so.11.0'; dlerror: libcudart.so.11.0: cannot open shared object file: No such file or directory\n",
      "2022-11-26 14:40:13.897161: I tensorflow/stream_executor/cuda/cudart_stub.cc:29] Ignore above cudart dlerror if you do not have a GPU set up on your machine.\n",
      "2022-11-26 14:40:13.975497: E tensorflow/stream_executor/cuda/cuda_blas.cc:2981] Unable to register cuBLAS factory: Attempting to register factory for plugin cuBLAS when one has already been registered\n",
      "2022-11-26 14:40:15.919603: W tensorflow/stream_executor/platform/default/dso_loader.cc:64] Could not load dynamic library 'libnvinfer.so.7'; dlerror: libnvinfer.so.7: cannot open shared object file: No such file or directory\n",
      "2022-11-26 14:40:15.919771: W tensorflow/stream_executor/platform/default/dso_loader.cc:64] Could not load dynamic library 'libnvinfer_plugin.so.7'; dlerror: libnvinfer_plugin.so.7: cannot open shared object file: No such file or directory\n",
      "2022-11-26 14:40:15.919789: W tensorflow/compiler/tf2tensorrt/utils/py_utils.cc:38] TF-TRT Warning: Cannot dlopen some TensorRT libraries. If you would like to use Nvidia GPU with TensorRT, please make sure the missing libraries mentioned above are installed properly.\n"
     ]
    }
   ],
   "source": [
    "from keras.utils import load_img\n",
    "from keras.utils import img_to_array\n",
    "from keras.applications.vgg16 import preprocess_input\n",
    "# models\n",
    "from keras.applications.vgg16 import VGG16\n",
    "from keras.models import Model\n",
    "# clustering and dimension reduction\n",
    "from sklearn.cluster import KMeans\n",
    "from sklearn.decomposition import PCA\n",
    "# for everything else\n",
    "import os\n",
    "import numpy as np\n",
    "import matplotlib.pyplot as plt\n",
    "from random import randint\n",
    "import pandas as pd\n",
    "import pickle\n",
    "from sklearn.preprocessing import StandardScaler\n",
    "from sklearn.metrics import silhouette_score\n",
    "from kneed import KneeLocator\n",
    "from sklearn.manifold import TSNE\n",
    "import seaborn as sns\n",
    "from PIL import Image\n",
    "from datetime import datetime"
   ]
  },
  {
   "cell_type": "code",
   "execution_count": 9,
   "id": "09dc5a40",
   "metadata": {},
   "outputs": [
    {
     "name": "stdout",
     "output_type": "stream",
     "text": [
      "                                          Image Name\n",
      "0  /home/vlad/universitet/ProjektDA/Image-cluster...\n",
      "1  /home/vlad/universitet/ProjektDA/Image-cluster...\n",
      "2  /home/vlad/universitet/ProjektDA/Image-cluster...\n",
      "3  /home/vlad/universitet/ProjektDA/Image-cluster...\n",
      "4  /home/vlad/universitet/ProjektDA/Image-cluster...\n",
      "5  /home/vlad/universitet/ProjektDA/Image-cluster...\n"
     ]
    }
   ],
   "source": [
    "base_dir= os.getcwd()\n",
    "# change the working directory to the path where the images are located\n",
    "tsne_df = pd.DataFrame()\n",
    "# this list holds all the image filename\n",
    "image_paths = []\n",
    "data_dir = base_dir + \"/Image_Data/a3YWJsrzlaA/\"\n",
    "# creates a ScandirIterator aliased as files\n",
    "for index, directories in enumerate(os.walk(data_dir)):\n",
    "    for sample in directories[2]:\n",
    "        if sample.endswith('.png'):\n",
    "            image_paths.append(data_dir + sample)\n",
    "tsne_df[\"Image Name\"] = image_paths\n",
    "print(tsne_df)"
   ]
  },
  {
   "cell_type": "code",
   "execution_count": 10,
   "id": "07f4fa98",
   "metadata": {},
   "outputs": [],
   "source": [
    "def extract_features(file, model):\n",
    "    # load the image as a 224x224 array\n",
    "    img = load_img(file, target_size=(224, 224))\n",
    "    # convert from 'PIL.Image.Image' to numpy array\n",
    "    img = np.array(img)\n",
    "    # reshape the data for the model reshape(num_of_samples, dim 1, dim 2, channels)\n",
    "    reshaped_img = img.reshape(1, 224, 224, 3)\n",
    "    # prepare image for model\n",
    "    imgx = preprocess_input(reshaped_img)\n",
    "    # get the feature vector\n",
    "    features = model.predict(imgx, use_multiprocessing=True)\n",
    "    return features"
   ]
  },
  {
   "cell_type": "code",
   "execution_count": 11,
   "id": "6853a40c",
   "metadata": {},
   "outputs": [],
   "source": [
    "def combine_images(columns, space, images):\n",
    "    rows = len(images) // columns\n",
    "    if len(images) % columns:\n",
    "        rows += 1\n",
    "    widths = []\n",
    "    heights = []\n",
    "    for image in images:\n",
    "        img = Image.open(image)\n",
    "        widths.append(img.width)\n",
    "        heights.append(img.height)\n",
    "        img.close()\n",
    "    width_max = max(widths)\n",
    "    height_max = max(heights)\n",
    "    print(width_max, height_max)\n",
    "    background_width = width_max*columns + (space*columns)-space\n",
    "    background_height = height_max*rows + (space*rows)-space\n",
    "    background = Image.new('RGBA', (background_width, background_height), (255, 255, 255, 255))\n",
    "    x = 0\n",
    "    y = 0\n",
    "    for i, image in enumerate(images):\n",
    "        img = Image.open(image)\n",
    "        x_offset = int((width_max-img.width)/2)\n",
    "        y_offset = int((height_max-img.height)/2)\n",
    "        background.paste(img, (x+x_offset, y+y_offset))\n",
    "        x += width_max + space\n",
    "        if (i+1) % columns == 0:\n",
    "            y += height_max + space\n",
    "            x = 0\n",
    "        img.close()\n",
    "    return background"
   ]
  },
  {
   "cell_type": "code",
   "execution_count": 18,
   "id": "1e029106",
   "metadata": {},
   "outputs": [],
   "source": [
    "def perform_KMeans(data, min_clusters, max_clusters):\n",
    "    # --------- CALCULATE K-MEANS CLUSTERS ------------\n",
    "    sse = []\n",
    "    silhouette_coefficients = []\n",
    "    labels = []\n",
    "    for nr_clusters in range(min_clusters, max_clusters+1):\n",
    "        kmeans = KMeans(init = \"random\", n_clusters = nr_clusters, n_init = 10, max_iter=300, random_state = 22)\n",
    "        kmeans.fit(data)\n",
    "        sse.append(kmeans.inertia_)\n",
    "        score = silhouette_score(data, kmeans.labels_)\n",
    "        silhouette_coefficients.append(score)\n",
    "        labels.append(kmeans.labels_)\n",
    "    return sse, score, silhouette_coefficients, labels"
   ]
  },
  {
   "cell_type": "code",
   "execution_count": 19,
   "id": "74209dc8",
   "metadata": {},
   "outputs": [],
   "source": [
    "# load model\n",
    "model = VGG16()\n",
    "model = Model(inputs=model.inputs, outputs=model.layers[-2].output)"
   ]
  },
  {
   "cell_type": "code",
   "execution_count": 20,
   "id": "e5120bfa",
   "metadata": {},
   "outputs": [
    {
     "name": "stdout",
     "output_type": "stream",
     "text": [
      "1/1 [==============================] - 1s 664ms/step\n",
      "1/1 [==============================] - 1s 537ms/step\n",
      "1/1 [==============================] - 0s 297ms/step\n",
      "1/1 [==============================] - 0s 372ms/step\n",
      "1/1 [==============================] - 0s 301ms/step\n",
      "1/1 [==============================] - 0s 296ms/step\n"
     ]
    },
    {
     "data": {
      "text/plain": [
       "(210, 4096)"
      ]
     },
     "execution_count": 20,
     "metadata": {},
     "output_type": "execute_result"
    }
   ],
   "source": [
    "data = {}\n",
    "\n",
    "# lop through each image in the dataset\n",
    "for image in image_paths:\n",
    "    feat = extract_features(image, model)\n",
    "    data[image] = feat\n",
    "\n",
    "# get a list of the filenames\n",
    "filenames = np.array(list(data.keys()))\n",
    "\n",
    "# get a list of just the features\n",
    "feat = np.array(list(data.values()))\n",
    "feat.shape\n",
    "(210, 1, 4096)\n",
    "\n",
    "# reshape so that there are 210 samples of 4096 vectors\n",
    "feat = feat.reshape(-1, 4096)\n",
    "feat.shape\n",
    "(210, 4096)"
   ]
  },
  {
   "cell_type": "code",
   "execution_count": 21,
   "id": "4268c749",
   "metadata": {},
   "outputs": [
    {
     "name": "stdout",
     "output_type": "stream",
     "text": [
      "[[0.         0.         0.         ... 0.         0.         2.690075  ]\n",
      " [0.         0.         0.6294271  ... 0.         0.         0.49514115]\n",
      " [0.         0.         0.         ... 0.         0.42501947 1.4450336 ]\n",
      " [0.         0.         0.         ... 0.         0.         1.0278497 ]\n",
      " [0.         0.         0.         ... 0.         0.13275692 1.1534563 ]\n",
      " [0.         0.         0.         ... 0.         0.5960327  2.0472968 ]]\n"
     ]
    }
   ],
   "source": [
    "print(feat)"
   ]
  },
  {
   "cell_type": "code",
   "execution_count": 22,
   "id": "0b520cb7",
   "metadata": {},
   "outputs": [
    {
     "name": "stdout",
     "output_type": "stream",
     "text": [
      "[[ 0.          0.         -0.4472136  ...  0.         -0.8179444\n",
      "   1.6970868 ]\n",
      " [ 0.          0.          2.236068   ...  0.         -0.8179444\n",
      "  -1.3722891 ]\n",
      " [ 0.          0.         -0.4472136  ...  0.          0.9898536\n",
      "  -0.043968  ]\n",
      " [ 0.          0.         -0.4472136  ...  0.         -0.8179444\n",
      "  -0.6273542 ]\n",
      " [ 0.          0.         -0.4472136  ...  0.         -0.2532698\n",
      "  -0.45170698]\n",
      " [ 0.          0.         -0.4472136  ...  0.          1.7172493\n",
      "   0.7982315 ]]\n"
     ]
    }
   ],
   "source": [
    "# Standardize z\n",
    "scaler = StandardScaler()\n",
    "scaler.fit(feat)\n",
    "feat = scaler.transform(feat)\n",
    "print(feat)"
   ]
  },
  {
   "cell_type": "code",
   "execution_count": 23,
   "id": "fc029e9e",
   "metadata": {},
   "outputs": [
    {
     "name": "stdout",
     "output_type": "stream",
     "text": [
      "(6, 5)\n",
      "[[ -5.2613525   52.033875   -28.819748    -2.0076423   -0.75831604]\n",
      " [ 26.80236    -12.114993    -3.620531    40.042984    -0.93422383]\n",
      " [-38.596146   -21.431644    -3.3264058   -4.362683   -24.123865  ]\n",
      " [ 47.60857    -22.106531   -13.324858   -26.5876       1.3879691 ]\n",
      " [-38.24359    -17.327742    -1.608388    -1.4824121   25.340279  ]\n",
      " [  7.690155    20.947067    50.69994     -5.6026483   -0.9118458 ]]\n"
     ]
    }
   ],
   "source": [
    "pca = PCA(0.95, random_state=22)\n",
    "pca.fit(feat)\n",
    "x = pca.transform(feat)\n",
    "\n",
    "print(x.shape)\n",
    "print(x)"
   ]
  },
  {
   "cell_type": "code",
   "execution_count": 26,
   "id": "bad5f0f7",
   "metadata": {},
   "outputs": [],
   "source": [
    "# Kmeans K\n",
    "min_cluster = 2\n",
    "max_cluster = 4\n",
    "sse, score, silhouette_coefficients, labels = perform_KMeans(x, min_cluster, max_cluster)"
   ]
  },
  {
   "cell_type": "code",
   "execution_count": 27,
   "id": "277d85e7",
   "metadata": {},
   "outputs": [
    {
     "name": "stdout",
     "output_type": "stream",
     "text": [
      "None\n",
      "Silhouette coefficient: 3 clusters return best results\n"
     ]
    },
    {
     "name": "stderr",
     "output_type": "stream",
     "text": [
      "/home/vlad/.local/lib/python3.9/site-packages/kneed/knee_locator.py:311: UserWarning: No knee/elbow found\n",
      "  warnings.warn(\"No knee/elbow found\")\n"
     ]
    }
   ],
   "source": [
    "kl = KneeLocator(range(min_cluster, max_cluster+1), sse, curve=\"convex\", direction=\"decreasing\")\n",
    "print(kl.elbow)\n",
    "n_clusters = np.argmax(silhouette_coefficients)+min_cluster\n",
    "print(f\"Silhouette coefficient: {n_clusters} clusters return best results\")"
   ]
  },
  {
   "cell_type": "code",
   "execution_count": 28,
   "id": "5da9ad01",
   "metadata": {},
   "outputs": [
    {
     "name": "stderr",
     "output_type": "stream",
     "text": [
      "/home/vlad/.local/lib/python3.9/site-packages/sklearn/manifold/_t_sne.py:800: FutureWarning: The default initialization in TSNE will change from 'random' to 'pca' in 1.2.\n",
      "  warnings.warn(\n",
      "/home/vlad/.local/lib/python3.9/site-packages/sklearn/manifold/_t_sne.py:810: FutureWarning: The default learning rate in TSNE will change from 200.0 to 'auto' in 1.2.\n",
      "  warnings.warn(\n"
     ]
    },
    {
     "name": "stdout",
     "output_type": "stream",
     "text": [
      "[2 1 0 1 0 2]\n"
     ]
    }
   ],
   "source": [
    "# Create Visual Evaluation\n",
    "X = TSNE(n_components=2, perplexity=4).fit_transform(x)\n",
    "cluster_labels = pd.Series(labels[np.argmax(silhouette_coefficients)])\n",
    "tsne_df['ClusterID'] = cluster_labels.values\n",
    "print(cluster_labels.values)\n",
    "tsne_df[\"X_tsne\"]  = X[:, 0]\n",
    "tsne_df[\"Y_tsne\"] = X[:, 1]"
   ]
  },
  {
   "cell_type": "code",
   "execution_count": 29,
   "id": "5fd7f049",
   "metadata": {},
   "outputs": [
    {
     "name": "stderr",
     "output_type": "stream",
     "text": [
      "/tmp/ipykernel_139397/396374838.py:13: UserWarning: The palette list has more values (10) than needed (3), which may not be intended.\n",
      "  sns.scatterplot(\n"
     ]
    },
    {
     "data": {
      "image/png": "[encoded data removed]",
      "text/plain": [
       "<Figure size 432x288 with 2 Axes>"
      ]
     },
     "metadata": {
      "needs_background": "light"
     },
     "output_type": "display_data"
    },
    {
     "data": {
      "image/png": "[encoded data removed]",
      "text/plain": [
       "<Figure size 1152x720 with 1 Axes>"
      ]
     },
     "metadata": {},
     "output_type": "display_data"
    }
   ],
   "source": [
    "#Plotting Elbow Method & Silhouette \n",
    "\n",
    "fig, axes = plt.subplots(2, 1)\n",
    "plt.style.use(\"fivethirtyeight\")\n",
    "axes[0].plot(range(min_cluster, max_cluster+1), sse)\n",
    "axes[0].set_xlabel(\"Number of Clusters\")\n",
    "axes[0].set_ylabel(\"SSE\")\n",
    "axes[1].plot(range(min_cluster, max_cluster+1), silhouette_coefficients)\n",
    "axes[1].set_xlabel(\"Number of Clusters\")\n",
    "axes[1].set_ylabel(\"Silhouette Coefficient\")\n",
    "\n",
    "plt.figure(figsize=(16,10))\n",
    "sns.scatterplot(\n",
    "    x=\"X_tsne\", y=\"Y_tsne\",\n",
    "    hue=\"ClusterID\",\n",
    "    palette=sns.color_palette(\"hls\", 10),\n",
    "    data=tsne_df,\n",
    "    legend=\"full\",\n",
    "    alpha=0.9\n",
    ")\n",
    "plt.show()"
   ]
  },
  {
   "cell_type": "code",
   "execution_count": 30,
   "id": "e28e2aec",
   "metadata": {
    "scrolled": true
   },
   "outputs": [
    {
     "name": "stdout",
     "output_type": "stream",
     "text": [
      "640 360\n",
      "640 360\n",
      "640 360\n"
     ]
    }
   ],
   "source": [
    "date = datetime.now()\n",
    "dir_name = date.strftime(\"%c\")#.replace(\":\", \"\")\n",
    "os.mkdir(base_dir+\"/Results/DNN/\"+dir_name)\n",
    "results_path = base_dir+\"/Results/DNN/\"+dir_name+\"/\"\n",
    "os.chdir(results_path)\n",
    "\n",
    "for cluster_number in range(n_clusters):\n",
    "    cluster = tsne_df.loc[tsne_df[\"ClusterID\"]==cluster_number]\n",
    "    image_list = []\n",
    "    for image_path in cluster[\"Image Name\"]:\n",
    "        image_list.append(image_path)\n",
    "\n",
    "    column_number = int(np.ceil(np.sqrt(len(image_list))))\n",
    "    if len(image_list):\n",
    "        merged_image = combine_images(columns=column_number, space=10, images=image_list)\n",
    "        merged_image.save(str(cluster_number)+\".png\")\n",
    "os.chdir(base_dir)"
   ]
  },
  {
   "cell_type": "code",
   "execution_count": null,
   "id": "bcc47746",
   "metadata": {},
   "outputs": [],
   "source": []
  }
 ],
 "metadata": {
  "kernelspec": {
   "display_name": "Python 3 (ipykernel)",
   "language": "python",
   "name": "python3"
  },
  "language_info": {
   "codemirror_mode": {
    "name": "ipython",
    "version": 3
   },
   "file_extension": ".py",
   "mimetype": "text/x-python",
   "name": "python",
   "nbconvert_exporter": "python",
   "pygments_lexer": "ipython3",
   "version": "3.9.7"
  }
 },
 "nbformat": 4,
 "nbformat_minor": 5
}
