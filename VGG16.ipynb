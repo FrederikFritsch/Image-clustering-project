{
 "cells": [
  {
   "cell_type": "code",
   "execution_count": 1,
   "id": "4bc5830f",
   "metadata": {},
   "outputs": [
    {
     "name": "stderr",
     "output_type": "stream",
     "text": [
      "2022-11-17 11:35:33.160988: I tensorflow/core/platform/cpu_feature_guard.cc:193] This TensorFlow binary is optimized with oneAPI Deep Neural Network Library (oneDNN) to use the following CPU instructions in performance-critical operations:  AVX2 FMA\n",
      "To enable them in other operations, rebuild TensorFlow with the appropriate compiler flags.\n",
      "2022-11-17 11:35:33.953904: W tensorflow/stream_executor/platform/default/dso_loader.cc:64] Could not load dynamic library 'libcudart.so.11.0'; dlerror: libcudart.so.11.0: cannot open shared object file: No such file or directory\n",
      "2022-11-17 11:35:33.954121: I tensorflow/stream_executor/cuda/cudart_stub.cc:29] Ignore above cudart dlerror if you do not have a GPU set up on your machine.\n",
      "2022-11-17 11:35:34.083319: E tensorflow/stream_executor/cuda/cuda_blas.cc:2981] Unable to register cuBLAS factory: Attempting to register factory for plugin cuBLAS when one has already been registered\n",
      "2022-11-17 11:35:36.527387: W tensorflow/stream_executor/platform/default/dso_loader.cc:64] Could not load dynamic library 'libnvinfer.so.7'; dlerror: libnvinfer.so.7: cannot open shared object file: No such file or directory\n",
      "2022-11-17 11:35:36.527555: W tensorflow/stream_executor/platform/default/dso_loader.cc:64] Could not load dynamic library 'libnvinfer_plugin.so.7'; dlerror: libnvinfer_plugin.so.7: cannot open shared object file: No such file or directory\n",
      "2022-11-17 11:35:36.527573: W tensorflow/compiler/tf2tensorrt/utils/py_utils.cc:38] TF-TRT Warning: Cannot dlopen some TensorRT libraries. If you would like to use Nvidia GPU with TensorRT, please make sure the missing libraries mentioned above are installed properly.\n"
     ]
    }
   ],
   "source": [
    "from keras.utils import load_img\n",
    "from keras.utils import img_to_array\n",
    "from keras.applications.vgg16 import preprocess_input\n",
    "\n",
    "# models\n",
    "from keras.applications.vgg16 import VGG16\n",
    "from keras.models import Model\n",
    "\n",
    "# clustering and dimension reduction\n",
    "from sklearn.cluster import KMeans\n",
    "from sklearn.decomposition import PCA\n",
    "\n",
    "# for everything else\n",
    "import os\n",
    "import numpy as np\n",
    "import matplotlib.pyplot as plt\n",
    "from random import randint\n",
    "import pandas as pd\n",
    "import pickle\n",
    "from sklearn.preprocessing import StandardScaler\n",
    "from sklearn.metrics import silhouette_score\n",
    "from kneed import KneeLocator\n",
    "from sklearn.manifold import TSNE\n",
    "import seaborn as sns\n",
    "from PIL import Image\n",
    "from datetime import datetime"
   ]
  },
  {
   "cell_type": "code",
   "execution_count": 2,
   "id": "09dc5a40",
   "metadata": {},
   "outputs": [
    {
     "name": "stdout",
     "output_type": "stream",
     "text": [
      "                                            Image Name\n",
      "0    /home/vlad/universitet/ProjektDA/Image-cluster...\n",
      "1    /home/vlad/universitet/ProjektDA/Image-cluster...\n",
      "2    /home/vlad/universitet/ProjektDA/Image-cluster...\n",
      "3    /home/vlad/universitet/ProjektDA/Image-cluster...\n",
      "4    /home/vlad/universitet/ProjektDA/Image-cluster...\n",
      "..                                                 ...\n",
      "199  /home/vlad/universitet/ProjektDA/Image-cluster...\n",
      "200  /home/vlad/universitet/ProjektDA/Image-cluster...\n",
      "201  /home/vlad/universitet/ProjektDA/Image-cluster...\n",
      "202  /home/vlad/universitet/ProjektDA/Image-cluster...\n",
      "203  /home/vlad/universitet/ProjektDA/Image-cluster...\n",
      "\n",
      "[204 rows x 1 columns]\n"
     ]
    }
   ],
   "source": [
    "base_dir= os.getcwd()\n",
    "# change the working directory to the path where the images are located\n",
    "tsne_df = pd.DataFrame()\n",
    "# this list holds all the image filename\n",
    "image_paths = []\n",
    "data_dir = base_dir + \"/Image_Data/ZAsaa1YOBks/\"\n",
    "# creates a ScandirIterator aliased as files\n",
    "for index, directories in enumerate(os.walk(data_dir)):\n",
    "    for sample in directories[2]:\n",
    "        if sample.endswith('.png'):\n",
    "            image_paths.append(data_dir + sample)\n",
    "tsne_df[\"Image Name\"] = image_paths\n",
    "print(tsne_df)"
   ]
  },
  {
   "cell_type": "code",
   "execution_count": 21,
   "id": "07f4fa98",
   "metadata": {},
   "outputs": [],
   "source": [
    "def extract_features(file, model):\n",
    "    # load the image as a 224x224 array\n",
    "    img = load_img(file, target_size=(224, 224))\n",
    "    # convert from 'PIL.Image.Image' to numpy array\n",
    "    img = np.array(img)\n",
    "    # reshape the data for the model reshape(num_of_samples, dim 1, dim 2, channels)\n",
    "    reshaped_img = img.reshape(1, 224, 224, 3)\n",
    "    # prepare image for model\n",
    "    imgx = preprocess_input(reshaped_img)\n",
    "    # get the feature vector\n",
    "    features = model.predict(imgx, use_multiprocessing=True)\n",
    "    return features"
   ]
  },
  {
   "cell_type": "code",
   "execution_count": 4,
   "id": "6853a40c",
   "metadata": {},
   "outputs": [],
   "source": [
    "def combine_images(columns, space, images):\n",
    "    rows = len(images) // columns\n",
    "    if len(images) % columns:\n",
    "        rows += 1\n",
    "    widths = []\n",
    "    heights = []\n",
    "    for image in images:\n",
    "        img = Image.open(image)\n",
    "        widths.append(img.width)\n",
    "        heights.append(img.height)\n",
    "        img.close()\n",
    "    width_max = max(widths)\n",
    "    height_max = max(heights)\n",
    "    print(width_max, height_max)\n",
    "    background_width = width_max*columns + (space*columns)-space\n",
    "    background_height = height_max*rows + (space*rows)-space\n",
    "    background = Image.new('RGBA', (background_width, background_height), (255, 255, 255, 255))\n",
    "    x = 0\n",
    "    y = 0\n",
    "    for i, image in enumerate(images):\n",
    "        img = Image.open(image)\n",
    "        x_offset = int((width_max-img.width)/2)\n",
    "        y_offset = int((height_max-img.height)/2)\n",
    "        background.paste(img, (x+x_offset, y+y_offset))\n",
    "        x += width_max + space\n",
    "        if (i+1) % columns == 0:\n",
    "            y += height_max + space\n",
    "            x = 0\n",
    "        img.close()\n",
    "    return background"
   ]
  },
  {
   "cell_type": "code",
   "execution_count": 5,
   "id": "1e029106",
   "metadata": {},
   "outputs": [],
   "source": [
    "def perform_KMeans(data, min_clusters, max_clusters):\n",
    "    # --------- CALCULATE K-MEANS CLUSTERS ------------\n",
    "    sse = []\n",
    "    silhouette_coefficients = []\n",
    "    labels = []\n",
    "    for nr_clusters in range(min_clusters, max_clusters+1):\n",
    "        kmeans = KMeans(init = \"random\", n_clusters = nr_clusters, n_init = 10, max_iter=300, random_state = 22)\n",
    "        kmeans.fit(data)\n",
    "        sse.append(kmeans.inertia_)\n",
    "        score = silhouette_score(data, kmeans.labels_)\n",
    "        silhouette_coefficients.append(score)\n",
    "        labels.append(kmeans.labels_)\n",
    "    return sse, score, silhouette_coefficients, labels"
   ]
  },
  {
   "cell_type": "code",
   "execution_count": 6,
   "id": "74209dc8",
   "metadata": {},
   "outputs": [
    {
     "name": "stderr",
     "output_type": "stream",
     "text": [
      "2022-11-17 11:35:42.923092: W tensorflow/stream_executor/platform/default/dso_loader.cc:64] Could not load dynamic library 'libcuda.so.1'; dlerror: libcuda.so.1: cannot open shared object file: No such file or directory\n",
      "2022-11-17 11:35:42.923787: W tensorflow/stream_executor/cuda/cuda_driver.cc:263] failed call to cuInit: UNKNOWN ERROR (303)\n",
      "2022-11-17 11:35:42.923975: I tensorflow/stream_executor/cuda/cuda_diagnostics.cc:156] kernel driver does not appear to be running on this host (vlad-HP-Laptop-15-da0xxx): /proc/driver/nvidia/version does not exist\n",
      "2022-11-17 11:35:42.924938: I tensorflow/core/platform/cpu_feature_guard.cc:193] This TensorFlow binary is optimized with oneAPI Deep Neural Network Library (oneDNN) to use the following CPU instructions in performance-critical operations:  AVX2 FMA\n",
      "To enable them in other operations, rebuild TensorFlow with the appropriate compiler flags.\n",
      "2022-11-17 11:35:43.637201: W tensorflow/core/framework/cpu_allocator_impl.cc:82] Allocation of 411041792 exceeds 10% of free system memory.\n",
      "2022-11-17 11:35:44.196536: W tensorflow/core/framework/cpu_allocator_impl.cc:82] Allocation of 411041792 exceeds 10% of free system memory.\n",
      "2022-11-17 11:35:44.347058: W tensorflow/core/framework/cpu_allocator_impl.cc:82] Allocation of 411041792 exceeds 10% of free system memory.\n",
      "2022-11-17 11:35:47.858322: W tensorflow/core/framework/cpu_allocator_impl.cc:82] Allocation of 411041792 exceeds 10% of free system memory.\n"
     ]
    }
   ],
   "source": [
    "# load model\n",
    "model = VGG16()\n",
    "model = Model(inputs=model.inputs, outputs=model.layers[-2].output)"
   ]
  },
  {
   "cell_type": "code",
   "execution_count": 7,
   "id": "e5120bfa",
   "metadata": {},
   "outputs": [
    {
     "name": "stdout",
     "output_type": "stream",
     "text": [
      "1/1 [==============================] - 1s 1s/step\n",
      "1/1 [==============================] - 0s 479ms/step\n",
      "1/1 [==============================] - 1s 629ms/step\n",
      "1/1 [==============================] - 1s 595ms/step\n",
      "1/1 [==============================] - 0s 464ms/step\n",
      "1/1 [==============================] - 1s 637ms/step\n",
      "1/1 [==============================] - 0s 450ms/step\n",
      "1/1 [==============================] - 1s 524ms/step\n",
      "1/1 [==============================] - 1s 501ms/step\n",
      "1/1 [==============================] - 1s 608ms/step\n",
      "1/1 [==============================] - 1s 649ms/step\n",
      "1/1 [==============================] - 1s 653ms/step\n",
      "1/1 [==============================] - 1s 513ms/step\n",
      "1/1 [==============================] - 1s 576ms/step\n",
      "1/1 [==============================] - 1s 691ms/step\n",
      "1/1 [==============================] - 1s 928ms/step\n",
      "1/1 [==============================] - 1s 709ms/step\n",
      "1/1 [==============================] - 1s 704ms/step\n",
      "1/1 [==============================] - 1s 607ms/step\n",
      "1/1 [==============================] - 1s 786ms/step\n",
      "1/1 [==============================] - 1s 622ms/step\n",
      "1/1 [==============================] - 1s 829ms/step\n",
      "1/1 [==============================] - 0s 479ms/step\n",
      "1/1 [==============================] - 1s 605ms/step\n",
      "1/1 [==============================] - 1s 587ms/step\n",
      "1/1 [==============================] - 1s 524ms/step\n",
      "1/1 [==============================] - 0s 499ms/step\n",
      "1/1 [==============================] - 0s 499ms/step\n",
      "1/1 [==============================] - 1s 647ms/step\n",
      "1/1 [==============================] - 1s 556ms/step\n",
      "1/1 [==============================] - 1s 556ms/step\n",
      "1/1 [==============================] - 1s 786ms/step\n",
      "1/1 [==============================] - 1s 829ms/step\n",
      "1/1 [==============================] - 1s 541ms/step\n",
      "1/1 [==============================] - 1s 556ms/step\n",
      "1/1 [==============================] - 1s 542ms/step\n",
      "1/1 [==============================] - 1s 726ms/step\n",
      "1/1 [==============================] - 1s 580ms/step\n",
      "1/1 [==============================] - 1s 637ms/step\n",
      "1/1 [==============================] - 1s 684ms/step\n",
      "1/1 [==============================] - 1s 556ms/step\n",
      "1/1 [==============================] - 1s 591ms/step\n",
      "1/1 [==============================] - 0s 459ms/step\n",
      "1/1 [==============================] - 1s 706ms/step\n",
      "1/1 [==============================] - 0s 467ms/step\n",
      "1/1 [==============================] - 0s 462ms/step\n",
      "1/1 [==============================] - 0s 476ms/step\n",
      "1/1 [==============================] - 0s 485ms/step\n",
      "1/1 [==============================] - 0s 473ms/step\n",
      "1/1 [==============================] - 0s 494ms/step\n",
      "1/1 [==============================] - 0s 481ms/step\n",
      "1/1 [==============================] - 0s 472ms/step\n",
      "1/1 [==============================] - 0s 462ms/step\n",
      "1/1 [==============================] - 0s 468ms/step\n",
      "1/1 [==============================] - 0s 475ms/step\n",
      "1/1 [==============================] - 0s 456ms/step\n",
      "1/1 [==============================] - 0s 458ms/step\n",
      "1/1 [==============================] - 1s 504ms/step\n",
      "1/1 [==============================] - 0s 485ms/step\n",
      "1/1 [==============================] - 0s 455ms/step\n",
      "1/1 [==============================] - 0s 474ms/step\n",
      "1/1 [==============================] - 0s 466ms/step\n",
      "1/1 [==============================] - 0s 495ms/step\n",
      "1/1 [==============================] - 1s 509ms/step\n",
      "1/1 [==============================] - 1s 582ms/step\n",
      "1/1 [==============================] - 0s 490ms/step\n",
      "1/1 [==============================] - 0s 498ms/step\n",
      "1/1 [==============================] - 0s 499ms/step\n",
      "1/1 [==============================] - 1s 571ms/step\n",
      "1/1 [==============================] - 1s 632ms/step\n",
      "1/1 [==============================] - 0s 475ms/step\n",
      "1/1 [==============================] - 1s 532ms/step\n",
      "1/1 [==============================] - 0s 472ms/step\n",
      "1/1 [==============================] - 0s 478ms/step\n",
      "1/1 [==============================] - 1s 617ms/step\n",
      "1/1 [==============================] - 1s 512ms/step\n",
      "1/1 [==============================] - 0s 475ms/step\n",
      "1/1 [==============================] - 0s 499ms/step\n",
      "1/1 [==============================] - 1s 501ms/step\n",
      "1/1 [==============================] - 0s 470ms/step\n",
      "1/1 [==============================] - 0s 482ms/step\n",
      "1/1 [==============================] - 1s 543ms/step\n",
      "1/1 [==============================] - 0s 496ms/step\n",
      "1/1 [==============================] - 1s 596ms/step\n",
      "1/1 [==============================] - 1s 696ms/step\n",
      "1/1 [==============================] - 0s 493ms/step\n",
      "1/1 [==============================] - 1s 546ms/step\n",
      "1/1 [==============================] - 0s 477ms/step\n",
      "1/1 [==============================] - 1s 559ms/step\n",
      "1/1 [==============================] - 0s 482ms/step\n",
      "1/1 [==============================] - 1s 509ms/step\n",
      "1/1 [==============================] - 0s 487ms/step\n",
      "1/1 [==============================] - 0s 484ms/step\n",
      "1/1 [==============================] - 0s 494ms/step\n",
      "1/1 [==============================] - 0s 468ms/step\n",
      "1/1 [==============================] - 1s 586ms/step\n",
      "1/1 [==============================] - 1s 613ms/step\n",
      "1/1 [==============================] - 1s 691ms/step\n",
      "1/1 [==============================] - 1s 701ms/step\n",
      "1/1 [==============================] - 1s 516ms/step\n",
      "1/1 [==============================] - 1s 641ms/step\n",
      "1/1 [==============================] - 1s 512ms/step\n",
      "1/1 [==============================] - 1s 504ms/step\n",
      "1/1 [==============================] - 1s 524ms/step\n",
      "1/1 [==============================] - 1s 527ms/step\n",
      "1/1 [==============================] - 0s 497ms/step\n",
      "1/1 [==============================] - 1s 614ms/step\n",
      "1/1 [==============================] - 0s 472ms/step\n",
      "1/1 [==============================] - 1s 662ms/step\n",
      "1/1 [==============================] - 1s 536ms/step\n",
      "1/1 [==============================] - 1s 817ms/step\n",
      "1/1 [==============================] - 1s 665ms/step\n",
      "1/1 [==============================] - 0s 486ms/step\n",
      "1/1 [==============================] - 1s 683ms/step\n",
      "1/1 [==============================] - 1s 537ms/step\n",
      "1/1 [==============================] - 1s 663ms/step\n",
      "1/1 [==============================] - 1s 675ms/step\n",
      "1/1 [==============================] - 1s 640ms/step\n",
      "1/1 [==============================] - 1s 738ms/step\n",
      "1/1 [==============================] - 1s 725ms/step\n",
      "1/1 [==============================] - 1s 745ms/step\n",
      "1/1 [==============================] - 1s 619ms/step\n",
      "1/1 [==============================] - 1s 814ms/step\n",
      "1/1 [==============================] - 1s 578ms/step\n",
      "1/1 [==============================] - 0s 470ms/step\n",
      "1/1 [==============================] - 1s 682ms/step\n",
      "1/1 [==============================] - 0s 466ms/step\n",
      "1/1 [==============================] - 1s 506ms/step\n",
      "1/1 [==============================] - 0s 489ms/step\n",
      "1/1 [==============================] - 1s 552ms/step\n",
      "1/1 [==============================] - 1s 505ms/step\n",
      "1/1 [==============================] - 0s 468ms/step\n",
      "1/1 [==============================] - 1s 500ms/step\n",
      "1/1 [==============================] - 0s 484ms/step\n",
      "1/1 [==============================] - 0s 478ms/step\n",
      "1/1 [==============================] - 1s 528ms/step\n",
      "1/1 [==============================] - 0s 474ms/step\n",
      "1/1 [==============================] - 1s 786ms/step\n",
      "1/1 [==============================] - 1s 815ms/step\n",
      "1/1 [==============================] - 1s 615ms/step\n",
      "1/1 [==============================] - 1s 613ms/step\n",
      "1/1 [==============================] - 1s 549ms/step\n",
      "1/1 [==============================] - 0s 486ms/step\n",
      "1/1 [==============================] - 1s 578ms/step\n",
      "1/1 [==============================] - 0s 478ms/step\n",
      "1/1 [==============================] - 1s 509ms/step\n",
      "1/1 [==============================] - 1s 590ms/step\n",
      "1/1 [==============================] - 1s 770ms/step\n",
      "1/1 [==============================] - 1s 662ms/step\n",
      "1/1 [==============================] - 1s 683ms/step\n",
      "1/1 [==============================] - 1s 659ms/step\n",
      "1/1 [==============================] - 1s 665ms/step\n",
      "1/1 [==============================] - 1s 734ms/step\n",
      "1/1 [==============================] - 1s 894ms/step\n"
     ]
    },
    {
     "name": "stdout",
     "output_type": "stream",
     "text": [
      "1/1 [==============================] - 1s 654ms/step\n",
      "1/1 [==============================] - 1s 789ms/step\n",
      "1/1 [==============================] - 1s 594ms/step\n",
      "1/1 [==============================] - 1s 596ms/step\n",
      "1/1 [==============================] - 1s 603ms/step\n",
      "1/1 [==============================] - 1s 594ms/step\n",
      "1/1 [==============================] - 1s 647ms/step\n",
      "1/1 [==============================] - 1s 591ms/step\n",
      "1/1 [==============================] - 1s 652ms/step\n",
      "1/1 [==============================] - 1s 732ms/step\n",
      "1/1 [==============================] - 1s 619ms/step\n",
      "1/1 [==============================] - 1s 589ms/step\n",
      "1/1 [==============================] - 1s 607ms/step\n",
      "1/1 [==============================] - 1s 644ms/step\n",
      "1/1 [==============================] - 1s 599ms/step\n",
      "1/1 [==============================] - 1s 771ms/step\n",
      "1/1 [==============================] - 1s 623ms/step\n",
      "1/1 [==============================] - 1s 649ms/step\n",
      "1/1 [==============================] - 1s 555ms/step\n",
      "1/1 [==============================] - 1s 503ms/step\n",
      "1/1 [==============================] - 1s 505ms/step\n",
      "1/1 [==============================] - 0s 495ms/step\n",
      "1/1 [==============================] - 1s 501ms/step\n",
      "1/1 [==============================] - 0s 496ms/step\n",
      "1/1 [==============================] - 1s 511ms/step\n",
      "1/1 [==============================] - 1s 585ms/step\n",
      "1/1 [==============================] - 1s 599ms/step\n",
      "1/1 [==============================] - 1s 568ms/step\n",
      "1/1 [==============================] - 1s 567ms/step\n",
      "1/1 [==============================] - 1s 563ms/step\n",
      "1/1 [==============================] - 0s 484ms/step\n",
      "1/1 [==============================] - 1s 571ms/step\n",
      "1/1 [==============================] - 1s 507ms/step\n",
      "1/1 [==============================] - 1s 502ms/step\n",
      "1/1 [==============================] - 1s 621ms/step\n",
      "1/1 [==============================] - 1s 696ms/step\n",
      "1/1 [==============================] - 1s 554ms/step\n",
      "1/1 [==============================] - 1s 505ms/step\n",
      "1/1 [==============================] - 1s 516ms/step\n",
      "1/1 [==============================] - 1s 581ms/step\n",
      "1/1 [==============================] - 1s 622ms/step\n",
      "1/1 [==============================] - 1s 612ms/step\n",
      "1/1 [==============================] - 1s 592ms/step\n",
      "1/1 [==============================] - 1s 561ms/step\n",
      "1/1 [==============================] - 0s 490ms/step\n",
      "1/1 [==============================] - 1s 690ms/step\n",
      "1/1 [==============================] - 0s 478ms/step\n",
      "1/1 [==============================] - 1s 559ms/step\n",
      "1/1 [==============================] - 0s 487ms/step\n",
      "1/1 [==============================] - 0s 465ms/step\n"
     ]
    },
    {
     "data": {
      "text/plain": [
       "(210, 4096)"
      ]
     },
     "execution_count": 7,
     "metadata": {},
     "output_type": "execute_result"
    }
   ],
   "source": [
    "data = {}\n",
    "\n",
    "# lop through each image in the dataset\n",
    "for flower in image_paths:\n",
    "    feat = extract_features(flower, model)\n",
    "    data[flower] = feat\n",
    "\n",
    "# get a list of the filenames\n",
    "filenames = np.array(list(data.keys()))\n",
    "\n",
    "# get a list of just the features\n",
    "feat = np.array(list(data.values()))\n",
    "feat.shape\n",
    "(210, 1, 4096)\n",
    "\n",
    "# reshape so that there are 210 samples of 4096 vectors\n",
    "feat = feat.reshape(-1, 4096)\n",
    "feat.shape\n",
    "(210, 4096)\n",
    "\n"
   ]
  },
  {
   "cell_type": "code",
   "execution_count": 8,
   "id": "4268c749",
   "metadata": {},
   "outputs": [
    {
     "name": "stdout",
     "output_type": "stream",
     "text": [
      "[[0.         0.5909953  1.1337146  ... 0.         0.         0.        ]\n",
      " [0.         0.         0.         ... 0.44416353 0.         0.        ]\n",
      " [0.         0.838642   0.         ... 0.23798046 0.         2.5965295 ]\n",
      " ...\n",
      " [1.4522324  0.         0.         ... 0.         0.         0.89516115]\n",
      " [0.         0.         0.36865452 ... 0.4514351  0.         0.        ]\n",
      " [0.7258918  0.         0.         ... 0.         0.         2.481297  ]]\n"
     ]
    }
   ],
   "source": [
    "print(feat)"
   ]
  },
  {
   "cell_type": "code",
   "execution_count": 10,
   "id": "0b520cb7",
   "metadata": {},
   "outputs": [
    {
     "name": "stdout",
     "output_type": "stream",
     "text": [
      "[[-0.33524707  0.4259932   0.5722756  ... -0.56465894 -0.58420444\n",
      "  -0.5243624 ]\n",
      " [-0.33524707 -0.43704653 -0.48888025 ... -0.00646361 -0.58420444\n",
      "  -0.5243624 ]\n",
      " [-0.33524707  0.78763556 -0.48888025 ... -0.26558083 -0.58420444\n",
      "   2.0309918 ]\n",
      " ...\n",
      " [ 2.1718135  -0.43704653 -0.48888025 ... -0.56465894 -0.58420444\n",
      "   0.35660344]\n",
      " [-0.33524707 -0.43704653 -0.14381997 ...  0.0026748  -0.58420444\n",
      "  -0.5243624 ]\n",
      " [ 0.9178959  -0.43704653 -0.48888025 ... -0.56465894 -0.58420444\n",
      "   1.9175866 ]]\n"
     ]
    }
   ],
   "source": [
    "# Standardize z\n",
    "scaler = StandardScaler()\n",
    "scaler.fit(feat)\n",
    "feat = scaler.transform(feat)\n",
    "print(feat)"
   ]
  },
  {
   "cell_type": "code",
   "execution_count": 11,
   "id": "fc029e9e",
   "metadata": {},
   "outputs": [
    {
     "name": "stdout",
     "output_type": "stream",
     "text": [
      "(204, 136)\n",
      "[[-15.037017    -1.3119236   -7.2645164  ...   2.3808045    2.300526\n",
      "   -3.7096465 ]\n",
      " [-11.953467    -9.6029      -7.238796   ...  -1.7421621    2.2529442\n",
      "    5.773293  ]\n",
      " [  9.100906    30.772486   -11.254495   ...  -2.31934     -2.96989\n",
      "    1.4499397 ]\n",
      " ...\n",
      " [ 25.014149     4.6332097   -4.435216   ...  -1.4538069   -0.6899917\n",
      "    0.37901536]\n",
      " [ -0.2719824  -10.931666     2.0999284  ...   0.6439706    0.30839434\n",
      "   -1.692861  ]\n",
      " [ 26.310635     9.013813    -5.810326   ...   0.98498625   0.5022155\n",
      "   -5.0765343 ]]\n"
     ]
    }
   ],
   "source": [
    "pca = PCA(0.95, random_state=22)\n",
    "pca.fit(feat)\n",
    "x = pca.transform(feat)\n",
    "\n",
    "print(x.shape)\n",
    "print(x)\n"
   ]
  },
  {
   "cell_type": "code",
   "execution_count": 12,
   "id": "bad5f0f7",
   "metadata": {},
   "outputs": [],
   "source": [
    "# Kmeans K\n",
    "\n",
    "min_cluster = 5\n",
    "max_cluster = 20\n",
    "sse, score, silhouette_coefficients, labels = perform_KMeans(x, min_cluster, max_cluster)"
   ]
  },
  {
   "cell_type": "code",
   "execution_count": 13,
   "id": "277d85e7",
   "metadata": {},
   "outputs": [
    {
     "name": "stdout",
     "output_type": "stream",
     "text": [
      "15\n",
      "Silhouette coefficient: 7 clusters return best results\n"
     ]
    }
   ],
   "source": [
    "kl = KneeLocator(range(min_cluster, max_cluster+1), sse, curve=\"convex\", direction=\"decreasing\")\n",
    "print(kl.elbow)\n",
    "n_clusters = np.argmax(silhouette_coefficients)+min_cluster\n",
    "print(f\"Silhouette coefficient: {n_clusters} clusters return best results\")"
   ]
  },
  {
   "cell_type": "code",
   "execution_count": 24,
   "id": "5da9ad01",
   "metadata": {},
   "outputs": [
    {
     "ename": "AttributeError",
     "evalue": "'int' object has no attribute 'shape'",
     "output_type": "error",
     "traceback": [
      "\u001b[0;31m---------------------------------------------------------------------------\u001b[0m",
      "\u001b[0;31mAttributeError\u001b[0m                            Traceback (most recent call last)",
      "Input \u001b[0;32mIn [24]\u001b[0m, in \u001b[0;36m<cell line: 2>\u001b[0;34m()\u001b[0m\n\u001b[1;32m      1\u001b[0m \u001b[38;5;66;03m# Create Visual Evaluation\u001b[39;00m\n\u001b[0;32m----> 2\u001b[0m X \u001b[38;5;241m=\u001b[39m \u001b[43mTSNE\u001b[49m\u001b[43m(\u001b[49m\u001b[43mn_components\u001b[49m\u001b[38;5;241;43m=\u001b[39;49m\u001b[38;5;241;43m2\u001b[39;49m\u001b[43m,\u001b[49m\u001b[43m \u001b[49m\u001b[43mperplexity\u001b[49m\u001b[38;5;241;43m=\u001b[39;49m\u001b[38;5;241;43m4\u001b[39;49m\u001b[43m)\u001b[49m\u001b[38;5;241;43m.\u001b[39;49m\u001b[43mfit_transform\u001b[49m\u001b[43m(\u001b[49m\u001b[43mx\u001b[49m\u001b[43m)\u001b[49m\n\u001b[1;32m      3\u001b[0m cluster_labels \u001b[38;5;241m=\u001b[39m pd\u001b[38;5;241m.\u001b[39mSeries(labels[np\u001b[38;5;241m.\u001b[39margmax(silhouette_coefficients)])\n\u001b[1;32m      4\u001b[0m tsne_df[\u001b[38;5;124m'\u001b[39m\u001b[38;5;124mClusterID\u001b[39m\u001b[38;5;124m'\u001b[39m] \u001b[38;5;241m=\u001b[39m cluster_labels\u001b[38;5;241m.\u001b[39mvalues\n",
      "File \u001b[0;32m~/.local/lib/python3.9/site-packages/sklearn/manifold/_t_sne.py:1122\u001b[0m, in \u001b[0;36mTSNE.fit_transform\u001b[0;34m(self, X, y)\u001b[0m\n\u001b[1;32m   1102\u001b[0m \u001b[38;5;28;01mdef\u001b[39;00m \u001b[38;5;21mfit_transform\u001b[39m(\u001b[38;5;28mself\u001b[39m, X, y\u001b[38;5;241m=\u001b[39m\u001b[38;5;28;01mNone\u001b[39;00m):\n\u001b[1;32m   1103\u001b[0m     \u001b[38;5;124;03m\"\"\"Fit X into an embedded space and return that transformed output.\u001b[39;00m\n\u001b[1;32m   1104\u001b[0m \n\u001b[1;32m   1105\u001b[0m \u001b[38;5;124;03m    Parameters\u001b[39;00m\n\u001b[0;32m   (...)\u001b[0m\n\u001b[1;32m   1120\u001b[0m \u001b[38;5;124;03m        Embedding of the training data in low-dimensional space.\u001b[39;00m\n\u001b[1;32m   1121\u001b[0m \u001b[38;5;124;03m    \"\"\"\u001b[39;00m\n\u001b[0;32m-> 1122\u001b[0m     \u001b[38;5;28;43mself\u001b[39;49m\u001b[38;5;241;43m.\u001b[39;49m\u001b[43m_check_params_vs_input\u001b[49m\u001b[43m(\u001b[49m\u001b[43mX\u001b[49m\u001b[43m)\u001b[49m\n\u001b[1;32m   1123\u001b[0m     embedding \u001b[38;5;241m=\u001b[39m \u001b[38;5;28mself\u001b[39m\u001b[38;5;241m.\u001b[39m_fit(X)\n\u001b[1;32m   1124\u001b[0m     \u001b[38;5;28mself\u001b[39m\u001b[38;5;241m.\u001b[39membedding_ \u001b[38;5;241m=\u001b[39m embedding\n",
      "File \u001b[0;32m~/.local/lib/python3.9/site-packages/sklearn/manifold/_t_sne.py:792\u001b[0m, in \u001b[0;36mTSNE._check_params_vs_input\u001b[0;34m(self, X)\u001b[0m\n\u001b[1;32m    791\u001b[0m \u001b[38;5;28;01mdef\u001b[39;00m \u001b[38;5;21m_check_params_vs_input\u001b[39m(\u001b[38;5;28mself\u001b[39m, X):\n\u001b[0;32m--> 792\u001b[0m     \u001b[38;5;28;01mif\u001b[39;00m \u001b[38;5;28mself\u001b[39m\u001b[38;5;241m.\u001b[39mperplexity \u001b[38;5;241m>\u001b[39m\u001b[38;5;241m=\u001b[39m \u001b[43mX\u001b[49m\u001b[38;5;241;43m.\u001b[39;49m\u001b[43mshape\u001b[49m[\u001b[38;5;241m0\u001b[39m]:\n\u001b[1;32m    793\u001b[0m         \u001b[38;5;28;01mraise\u001b[39;00m \u001b[38;5;167;01mValueError\u001b[39;00m(\u001b[38;5;124m\"\u001b[39m\u001b[38;5;124mperplexity must be less than n_samples\u001b[39m\u001b[38;5;124m\"\u001b[39m)\n",
      "\u001b[0;31mAttributeError\u001b[0m: 'int' object has no attribute 'shape'"
     ]
    }
   ],
   "source": [
    "# Create Visual Evaluation\n",
    "X = TSNE(n_components=2, perplexity=4).fit_transform(x)\n",
    "cluster_labels = pd.Series(labels[np.argmax(silhouette_coefficients)])\n",
    "tsne_df['ClusterID'] = cluster_labels.values\n",
    "print(cluster_labels.values)\n",
    "tsne_df[\"X_tsne\"]  = X[:, 0]\n",
    "tsne_df[\"Y_tsne\"] = X[:, 1]"
   ]
  },
  {
   "cell_type": "code",
   "execution_count": 25,
   "id": "5fd7f049",
   "metadata": {},
   "outputs": [
    {
     "name": "stderr",
     "output_type": "stream",
     "text": [
      "/tmp/ipykernel_53956/396374838.py:13: UserWarning: The palette list has more values (10) than needed (7), which may not be intended.\n",
      "  sns.scatterplot(\n"
     ]
    },
    {
     "data": {
      "image/png": "[encoded data removed]",
      "text/plain": [
       "<Figure size 432x288 with 2 Axes>"
      ]
     },
     "metadata": {
      "needs_background": "light"
     },
     "output_type": "display_data"
    },
    {
     "data": {
      "image/png": "[encoded data removed]",
      "text/plain": [
       "<Figure size 1152x720 with 1 Axes>"
      ]
     },
     "metadata": {},
     "output_type": "display_data"
    }
   ],
   "source": [
    "#Plotting Elbow Method & Silhouette \n",
    "\n",
    "fig, axes = plt.subplots(2, 1)\n",
    "plt.style.use(\"fivethirtyeight\")\n",
    "axes[0].plot(range(min_cluster, max_cluster+1), sse)\n",
    "axes[0].set_xlabel(\"Number of Clusters\")\n",
    "axes[0].set_ylabel(\"SSE\")\n",
    "axes[1].plot(range(min_cluster, max_cluster+1), silhouette_coefficients)\n",
    "axes[1].set_xlabel(\"Number of Clusters\")\n",
    "axes[1].set_ylabel(\"Silhouette Coefficient\")\n",
    "\n",
    "plt.figure(figsize=(16,10))\n",
    "sns.scatterplot(\n",
    "    x=\"X_tsne\", y=\"Y_tsne\",\n",
    "    hue=\"ClusterID\",\n",
    "    palette=sns.color_palette(\"hls\", 10),\n",
    "    data=tsne_df,\n",
    "    legend=\"full\",\n",
    "    alpha=0.9\n",
    ")\n",
    "plt.show()"
   ]
  },
  {
   "cell_type": "code",
   "execution_count": 26,
   "id": "e28e2aec",
   "metadata": {
    "scrolled": true
   },
   "outputs": [
    {
     "name": "stdout",
     "output_type": "stream",
     "text": [
      "640 352\n",
      "640 352\n",
      "640 352\n",
      "640 352\n",
      "640 352\n",
      "640 352\n"
     ]
    },
    {
     "ename": "FileNotFoundError",
     "evalue": "[Errno 2] No such file or directory: '/home/vlad/universitet/ProjektDA/Image-clustering-project/Image_Data/ZAsaa1YOBks/123image.png'",
     "output_type": "error",
     "traceback": [
      "\u001b[0;31m---------------------------------------------------------------------------\u001b[0m",
      "\u001b[0;31mFileNotFoundError\u001b[0m                         Traceback (most recent call last)",
      "Input \u001b[0;32mIn [26]\u001b[0m, in \u001b[0;36m<cell line: 7>\u001b[0;34m()\u001b[0m\n\u001b[1;32m     13\u001b[0m column_number \u001b[38;5;241m=\u001b[39m \u001b[38;5;28mint\u001b[39m(np\u001b[38;5;241m.\u001b[39mceil(np\u001b[38;5;241m.\u001b[39msqrt(\u001b[38;5;28mlen\u001b[39m(image_list))))\n\u001b[1;32m     14\u001b[0m \u001b[38;5;28;01mif\u001b[39;00m \u001b[38;5;28mlen\u001b[39m(image_list):\n\u001b[0;32m---> 15\u001b[0m     merged_image \u001b[38;5;241m=\u001b[39m \u001b[43mcombine_images\u001b[49m\u001b[43m(\u001b[49m\u001b[43mcolumns\u001b[49m\u001b[38;5;241;43m=\u001b[39;49m\u001b[43mcolumn_number\u001b[49m\u001b[43m,\u001b[49m\u001b[43m \u001b[49m\u001b[43mspace\u001b[49m\u001b[38;5;241;43m=\u001b[39;49m\u001b[38;5;241;43m10\u001b[39;49m\u001b[43m,\u001b[49m\u001b[43m \u001b[49m\u001b[43mimages\u001b[49m\u001b[38;5;241;43m=\u001b[39;49m\u001b[43mimage_list\u001b[49m\u001b[43m)\u001b[49m\n\u001b[1;32m     16\u001b[0m     merged_image\u001b[38;5;241m.\u001b[39msave(\u001b[38;5;28mstr\u001b[39m(cluster_number)\u001b[38;5;241m+\u001b[39m\u001b[38;5;124m\"\u001b[39m\u001b[38;5;124m.png\u001b[39m\u001b[38;5;124m\"\u001b[39m)\n\u001b[1;32m     17\u001b[0m     \u001b[38;5;66;03m#merged_image.show()\u001b[39;00m\n",
      "Input \u001b[0;32mIn [4]\u001b[0m, in \u001b[0;36mcombine_images\u001b[0;34m(columns, space, images)\u001b[0m\n\u001b[1;32m      6\u001b[0m heights \u001b[38;5;241m=\u001b[39m []\n\u001b[1;32m      7\u001b[0m \u001b[38;5;28;01mfor\u001b[39;00m image \u001b[38;5;129;01min\u001b[39;00m images:\n\u001b[0;32m----> 8\u001b[0m     img \u001b[38;5;241m=\u001b[39m \u001b[43mImage\u001b[49m\u001b[38;5;241;43m.\u001b[39;49m\u001b[43mopen\u001b[49m\u001b[43m(\u001b[49m\u001b[43mimage\u001b[49m\u001b[43m)\u001b[49m\n\u001b[1;32m      9\u001b[0m     widths\u001b[38;5;241m.\u001b[39mappend(img\u001b[38;5;241m.\u001b[39mwidth)\n\u001b[1;32m     10\u001b[0m     heights\u001b[38;5;241m.\u001b[39mappend(img\u001b[38;5;241m.\u001b[39mheight)\n",
      "File \u001b[0;32m/usr/lib/python3/dist-packages/PIL/Image.py:2904\u001b[0m, in \u001b[0;36mopen\u001b[0;34m(fp, mode, formats)\u001b[0m\n\u001b[1;32m   2901\u001b[0m     filename \u001b[38;5;241m=\u001b[39m fp\n\u001b[1;32m   2903\u001b[0m \u001b[38;5;28;01mif\u001b[39;00m filename:\n\u001b[0;32m-> 2904\u001b[0m     fp \u001b[38;5;241m=\u001b[39m \u001b[43mbuiltins\u001b[49m\u001b[38;5;241;43m.\u001b[39;49m\u001b[43mopen\u001b[49m\u001b[43m(\u001b[49m\u001b[43mfilename\u001b[49m\u001b[43m,\u001b[49m\u001b[43m \u001b[49m\u001b[38;5;124;43m\"\u001b[39;49m\u001b[38;5;124;43mrb\u001b[39;49m\u001b[38;5;124;43m\"\u001b[39;49m\u001b[43m)\u001b[49m\n\u001b[1;32m   2905\u001b[0m     exclusive_fp \u001b[38;5;241m=\u001b[39m \u001b[38;5;28;01mTrue\u001b[39;00m\n\u001b[1;32m   2907\u001b[0m \u001b[38;5;28;01mtry\u001b[39;00m:\n",
      "\u001b[0;31mFileNotFoundError\u001b[0m: [Errno 2] No such file or directory: '/home/vlad/universitet/ProjektDA/Image-clustering-project/Image_Data/ZAsaa1YOBks/123image.png'"
     ]
    }
   ],
   "source": [
    "date = datetime.now()\n",
    "dir_name = date.strftime(\"%c\")#.replace(\":\", \"\")\n",
    "os.mkdir(base_dir+\"/Results/DNN/\"+dir_name)\n",
    "results_path = base_dir+\"/Results/DNN/\"+dir_name+\"/\"\n",
    "os.chdir(results_path)\n",
    "\n",
    "for cluster_number in range(n_clusters):\n",
    "    cluster = tsne_df.loc[tsne_df[\"ClusterID\"]==cluster_number]\n",
    "    image_list = []\n",
    "    for image_path in cluster[\"Image Name\"]:\n",
    "        image_list.append(image_path)\n",
    "\n",
    "    column_number = int(np.ceil(np.sqrt(len(image_list))))\n",
    "    if len(image_list):\n",
    "        merged_image = combine_images(columns=column_number, space=10, images=image_list)\n",
    "        merged_image.save(str(cluster_number)+\".png\")\n",
    "os.chdir(base_dir)"
   ]
  },
  {
   "cell_type": "code",
   "execution_count": null,
   "id": "bcc47746",
   "metadata": {},
   "outputs": [],
   "source": []
  }
 ],
 "metadata": {
  "kernelspec": {
   "display_name": "Python 3 (ipykernel)",
   "language": "python",
   "name": "python3"
  },
  "language_info": {
   "codemirror_mode": {
    "name": "ipython",
    "version": 3
   },
   "file_extension": ".py",
   "mimetype": "text/x-python",
   "name": "python",
   "nbconvert_exporter": "python",
   "pygments_lexer": "ipython3",
   "version": "3.9.7"
  }
 },
 "nbformat": 4,
 "nbformat_minor": 5
}
