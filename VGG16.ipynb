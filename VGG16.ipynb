{
 "cells": [
  {
   "cell_type": "code",
   "execution_count": 91,
   "id": "4bc5830f",
   "metadata": {},
   "outputs": [],
   "source": [
    "from keras.utils import load_img\n",
    "from keras.utils import img_to_array\n",
    "from keras.applications.vgg16 import preprocess_input\n",
    "\n",
    "# models\n",
    "from keras.applications.vgg16 import VGG16\n",
    "from keras.models import Model\n",
    "\n",
    "# clustering and dimension reduction\n",
    "from sklearn.cluster import KMeans\n",
    "from sklearn.decomposition import PCA\n",
    "\n",
    "# for everything else\n",
    "import os\n",
    "import numpy as np\n",
    "import matplotlib.pyplot as plt\n",
    "from random import randint\n",
    "import pandas as pd\n",
    "import pickle\n",
    "from sklearn.preprocessing import StandardScaler\n",
    "from sklearn.metrics import silhouette_score\n",
    "from kneed import KneeLocator\n",
    "from sklearn.manifold import TSNE\n",
    "import seaborn as sns\n",
    "from PIL import Image"
   ]
  },
  {
   "cell_type": "code",
   "execution_count": 81,
   "id": "09dc5a40",
   "metadata": {},
   "outputs": [
    {
     "name": "stdout",
     "output_type": "stream",
     "text": [
      "                                            Image Name\n",
      "0    /home/vlad/universitet/ProjektDA/Image-cluster...\n",
      "1    /home/vlad/universitet/ProjektDA/Image-cluster...\n",
      "2    /home/vlad/universitet/ProjektDA/Image-cluster...\n",
      "3    /home/vlad/universitet/ProjektDA/Image-cluster...\n",
      "4    /home/vlad/universitet/ProjektDA/Image-cluster...\n",
      "..                                                 ...\n",
      "197  /home/vlad/universitet/ProjektDA/Image-cluster...\n",
      "198  /home/vlad/universitet/ProjektDA/Image-cluster...\n",
      "199  /home/vlad/universitet/ProjektDA/Image-cluster...\n",
      "200  /home/vlad/universitet/ProjektDA/Image-cluster...\n",
      "201  /home/vlad/universitet/ProjektDA/Image-cluster...\n",
      "\n",
      "[202 rows x 1 columns]\n"
     ]
    }
   ],
   "source": [
    "path = r\"/home/vlad/universitet/ProjektDA/Image-clustering-project/Image_Data/ZAsaa1YOBks/\"\n",
    "# change the working directory to the path where the images are located\n",
    "os.chdir(path)\n",
    "tsne_df = pd.DataFrame()\n",
    "# this list holds all the image filename\n",
    "image_paths = []\n",
    "data_dir = \"/Image_Data/ZAsaa1YOBks/\"\n",
    "# creates a ScandirIterator aliased as files\n",
    "for index, directories in enumerate(os.walk(path)):\n",
    "    for sample in directories[2]:\n",
    "        if sample.endswith('.png'):\n",
    "            image_paths.append(path + sample)\n",
    "tsne_df[\"Image Name\"] = image_paths\n",
    "print(tsne_df)"
   ]
  },
  {
   "cell_type": "code",
   "execution_count": 41,
   "id": "07f4fa98",
   "metadata": {},
   "outputs": [],
   "source": [
    "def extract_features(file, model):\n",
    "    # load the image as a 224x224 array\n",
    "    img = load_img(file, target_size=(224, 224))\n",
    "    # convert from 'PIL.Image.Image' to numpy array\n",
    "    img = np.array(img)\n",
    "    # reshape the data for the model reshape(num_of_samples, dim 1, dim 2, channels)\n",
    "    reshaped_img = img.reshape(1, 224, 224, 3)\n",
    "    # prepare image for model\n",
    "    imgx = preprocess_input(reshaped_img)\n",
    "    # get the feature vector\n",
    "    features = model.predict(imgx, use_multiprocessing=True)\n",
    "    return features"
   ]
  },
  {
   "cell_type": "code",
   "execution_count": null,
   "id": "6853a40c",
   "metadata": {},
   "outputs": [],
   "source": [
    "def combine_images(columns, space, images):\n",
    "    rows = len(images) // columns\n",
    "    if len(images) % columns:\n",
    "        rows += 1\n",
    "    width_max = max([Image.open(image).width for image in images])\n",
    "    height_max = max([Image.open(image).height for image in images])\n",
    "    background_width = width_max*columns + (space*columns)-space\n",
    "    background_height = height_max*rows + (space*rows)-space\n",
    "    background = Image.new('RGBA', (background_width, background_height), (255, 255, 255, 255))\n",
    "    x = 0\n",
    "    y = 0\n",
    "    for i, image in enumerate(images):\n",
    "        img = Image.open(image)\n",
    "        x_offset = int((width_max-img.width)/2)\n",
    "        y_offset = int((height_max-img.height)/2)\n",
    "        background.paste(img, (x+x_offset, y+y_offset))\n",
    "        x += width_max + space\n",
    "        if (i+1) % columns == 0:\n",
    "            y += height_max + space\n",
    "            x = 0\n",
    "    return background"
   ]
  },
  {
   "cell_type": "code",
   "execution_count": 57,
   "id": "1e029106",
   "metadata": {},
   "outputs": [],
   "source": [
    "def perform_KMeans(data, min_clusters, max_clusters):\n",
    "    # --------- CALCULATE K-MEANS CLUSTERS ------------\n",
    "    sse = []\n",
    "    silhouette_coefficients = []\n",
    "    labels = []\n",
    "    for nr_clusters in range(min_clusters, max_clusters+1):\n",
    "        kmeans = KMeans(init = \"random\", n_clusters = nr_clusters, n_init = 10, max_iter=300, random_state = 22)\n",
    "        kmeans.fit(data)\n",
    "        sse.append(kmeans.inertia_)\n",
    "        score = silhouette_score(data, kmeans.labels_)\n",
    "        silhouette_coefficients.append(score)\n",
    "        labels.append(kmeans.labels_)\n",
    "    return sse, score, silhouette_coefficients, labels"
   ]
  },
  {
   "cell_type": "code",
   "execution_count": null,
   "id": "74209dc8",
   "metadata": {},
   "outputs": [],
   "source": [
    "# load model\n",
    "model = VGG16()\n",
    "model = Model(inputs=model.inputs, outputs=model.layers[-2].output)"
   ]
  },
  {
   "cell_type": "code",
   "execution_count": 46,
   "id": "e5120bfa",
   "metadata": {},
   "outputs": [
    {
     "name": "stdout",
     "output_type": "stream",
     "text": [
      "1/1 [==============================] - 1s 601ms/step\n",
      "1/1 [==============================] - 0s 315ms/step\n",
      "1/1 [==============================] - 0s 317ms/step\n",
      "1/1 [==============================] - 0s 285ms/step\n",
      "1/1 [==============================] - 0s 314ms/step\n",
      "1/1 [==============================] - 0s 335ms/step\n",
      "1/1 [==============================] - 0s 292ms/step\n",
      "1/1 [==============================] - 0s 292ms/step\n",
      "1/1 [==============================] - 0s 297ms/step\n",
      "1/1 [==============================] - 0s 298ms/step\n",
      "1/1 [==============================] - 0s 356ms/step\n",
      "1/1 [==============================] - 0s 289ms/step\n",
      "1/1 [==============================] - 0s 364ms/step\n",
      "1/1 [==============================] - 0s 290ms/step\n",
      "1/1 [==============================] - 0s 288ms/step\n",
      "1/1 [==============================] - 0s 285ms/step\n",
      "1/1 [==============================] - 0s 285ms/step\n",
      "1/1 [==============================] - 0s 323ms/step\n",
      "1/1 [==============================] - 0s 285ms/step\n",
      "1/1 [==============================] - 0s 285ms/step\n",
      "1/1 [==============================] - 0s 284ms/step\n",
      "1/1 [==============================] - 0s 285ms/step\n",
      "1/1 [==============================] - 0s 287ms/step\n",
      "1/1 [==============================] - 0s 283ms/step\n",
      "1/1 [==============================] - 0s 284ms/step\n",
      "1/1 [==============================] - 0s 285ms/step\n",
      "1/1 [==============================] - 0s 288ms/step\n",
      "1/1 [==============================] - 0s 285ms/step\n",
      "1/1 [==============================] - 0s 288ms/step\n",
      "1/1 [==============================] - 0s 284ms/step\n",
      "1/1 [==============================] - 0s 290ms/step\n",
      "1/1 [==============================] - 0s 283ms/step\n",
      "1/1 [==============================] - 0s 285ms/step\n",
      "1/1 [==============================] - 0s 284ms/step\n",
      "1/1 [==============================] - 0s 284ms/step\n",
      "1/1 [==============================] - 0s 284ms/step\n",
      "1/1 [==============================] - 0s 289ms/step\n",
      "1/1 [==============================] - 0s 286ms/step\n",
      "1/1 [==============================] - 0s 286ms/step\n",
      "1/1 [==============================] - 0s 285ms/step\n",
      "1/1 [==============================] - 0s 283ms/step\n",
      "1/1 [==============================] - 0s 285ms/step\n",
      "1/1 [==============================] - 0s 286ms/step\n",
      "1/1 [==============================] - 0s 284ms/step\n",
      "1/1 [==============================] - 0s 287ms/step\n",
      "1/1 [==============================] - 0s 285ms/step\n",
      "1/1 [==============================] - 0s 285ms/step\n",
      "1/1 [==============================] - 0s 285ms/step\n",
      "1/1 [==============================] - 0s 285ms/step\n",
      "1/1 [==============================] - 0s 284ms/step\n",
      "1/1 [==============================] - 0s 288ms/step\n",
      "1/1 [==============================] - 0s 285ms/step\n",
      "1/1 [==============================] - 0s 290ms/step\n",
      "1/1 [==============================] - 0s 285ms/step\n",
      "1/1 [==============================] - 0s 285ms/step\n",
      "1/1 [==============================] - 0s 285ms/step\n",
      "1/1 [==============================] - 0s 290ms/step\n",
      "1/1 [==============================] - 0s 286ms/step\n",
      "1/1 [==============================] - 0s 285ms/step\n",
      "1/1 [==============================] - 0s 285ms/step\n",
      "1/1 [==============================] - 0s 286ms/step\n",
      "1/1 [==============================] - 0s 284ms/step\n",
      "1/1 [==============================] - 0s 285ms/step\n",
      "1/1 [==============================] - 0s 286ms/step\n",
      "1/1 [==============================] - 0s 287ms/step\n",
      "1/1 [==============================] - 0s 286ms/step\n",
      "1/1 [==============================] - 0s 288ms/step\n",
      "1/1 [==============================] - 0s 287ms/step\n",
      "1/1 [==============================] - 0s 285ms/step\n",
      "1/1 [==============================] - 0s 285ms/step\n",
      "1/1 [==============================] - 0s 285ms/step\n",
      "1/1 [==============================] - 0s 284ms/step\n",
      "1/1 [==============================] - 0s 285ms/step\n",
      "1/1 [==============================] - 0s 285ms/step\n",
      "1/1 [==============================] - 0s 283ms/step\n",
      "1/1 [==============================] - 0s 287ms/step\n",
      "1/1 [==============================] - 0s 286ms/step\n",
      "1/1 [==============================] - 0s 284ms/step\n",
      "1/1 [==============================] - 0s 287ms/step\n",
      "1/1 [==============================] - 0s 284ms/step\n",
      "1/1 [==============================] - 0s 284ms/step\n",
      "1/1 [==============================] - 0s 284ms/step\n",
      "1/1 [==============================] - 0s 288ms/step\n",
      "1/1 [==============================] - 0s 284ms/step\n",
      "1/1 [==============================] - 0s 290ms/step\n",
      "1/1 [==============================] - 0s 287ms/step\n",
      "1/1 [==============================] - 0s 286ms/step\n",
      "1/1 [==============================] - 0s 285ms/step\n",
      "1/1 [==============================] - 0s 283ms/step\n",
      "1/1 [==============================] - 0s 284ms/step\n",
      "1/1 [==============================] - 0s 284ms/step\n",
      "1/1 [==============================] - 0s 294ms/step\n",
      "1/1 [==============================] - 0s 284ms/step\n",
      "1/1 [==============================] - 0s 291ms/step\n",
      "1/1 [==============================] - 0s 286ms/step\n",
      "1/1 [==============================] - 0s 286ms/step\n",
      "1/1 [==============================] - 0s 285ms/step\n",
      "1/1 [==============================] - 0s 284ms/step\n",
      "1/1 [==============================] - 0s 286ms/step\n",
      "1/1 [==============================] - 0s 283ms/step\n",
      "1/1 [==============================] - 0s 291ms/step\n",
      "1/1 [==============================] - 0s 284ms/step\n",
      "1/1 [==============================] - 0s 285ms/step\n",
      "1/1 [==============================] - 0s 284ms/step\n",
      "1/1 [==============================] - 0s 285ms/step\n",
      "1/1 [==============================] - 0s 285ms/step\n",
      "1/1 [==============================] - 0s 289ms/step\n",
      "1/1 [==============================] - 0s 289ms/step\n",
      "1/1 [==============================] - 0s 297ms/step\n",
      "1/1 [==============================] - 0s 336ms/step\n",
      "1/1 [==============================] - 0s 286ms/step\n",
      "1/1 [==============================] - 0s 283ms/step\n",
      "1/1 [==============================] - 0s 287ms/step\n",
      "1/1 [==============================] - 0s 287ms/step\n",
      "1/1 [==============================] - 0s 286ms/step\n",
      "1/1 [==============================] - 0s 286ms/step\n",
      "1/1 [==============================] - 0s 283ms/step\n",
      "1/1 [==============================] - 0s 284ms/step\n",
      "1/1 [==============================] - 0s 284ms/step\n",
      "1/1 [==============================] - 0s 285ms/step\n",
      "1/1 [==============================] - 0s 284ms/step\n",
      "1/1 [==============================] - 0s 291ms/step\n",
      "1/1 [==============================] - 0s 284ms/step\n",
      "1/1 [==============================] - 0s 286ms/step\n",
      "1/1 [==============================] - 0s 284ms/step\n",
      "1/1 [==============================] - 0s 284ms/step\n",
      "1/1 [==============================] - 0s 286ms/step\n",
      "1/1 [==============================] - 0s 283ms/step\n",
      "1/1 [==============================] - 0s 284ms/step\n",
      "1/1 [==============================] - 0s 301ms/step\n",
      "1/1 [==============================] - 0s 283ms/step\n",
      "1/1 [==============================] - 0s 283ms/step\n",
      "1/1 [==============================] - 0s 293ms/step\n",
      "1/1 [==============================] - 0s 285ms/step\n",
      "1/1 [==============================] - 0s 289ms/step\n",
      "1/1 [==============================] - 0s 307ms/step\n",
      "1/1 [==============================] - 0s 286ms/step\n",
      "1/1 [==============================] - 0s 286ms/step\n",
      "1/1 [==============================] - 0s 285ms/step\n",
      "1/1 [==============================] - 0s 282ms/step\n",
      "1/1 [==============================] - 0s 290ms/step\n",
      "1/1 [==============================] - 0s 294ms/step\n",
      "1/1 [==============================] - 0s 286ms/step\n",
      "1/1 [==============================] - 0s 287ms/step\n",
      "1/1 [==============================] - 0s 287ms/step\n",
      "1/1 [==============================] - 0s 283ms/step\n",
      "1/1 [==============================] - 0s 285ms/step\n",
      "1/1 [==============================] - 0s 287ms/step\n",
      "1/1 [==============================] - 0s 284ms/step\n",
      "1/1 [==============================] - 0s 292ms/step\n",
      "1/1 [==============================] - 0s 283ms/step\n",
      "1/1 [==============================] - 0s 375ms/step\n",
      "1/1 [==============================] - 0s 300ms/step\n",
      "1/1 [==============================] - 0s 284ms/step\n",
      "1/1 [==============================] - 0s 287ms/step\n",
      "1/1 [==============================] - 0s 284ms/step\n",
      "1/1 [==============================] - 0s 284ms/step\n",
      "1/1 [==============================] - 0s 284ms/step\n",
      "1/1 [==============================] - 0s 285ms/step\n",
      "1/1 [==============================] - 0s 284ms/step\n",
      "1/1 [==============================] - 0s 284ms/step\n",
      "1/1 [==============================] - 0s 286ms/step\n",
      "1/1 [==============================] - 0s 286ms/step\n",
      "1/1 [==============================] - 0s 291ms/step\n",
      "1/1 [==============================] - 0s 287ms/step\n",
      "1/1 [==============================] - 0s 286ms/step\n",
      "1/1 [==============================] - 0s 290ms/step\n",
      "1/1 [==============================] - 0s 285ms/step\n",
      "1/1 [==============================] - 0s 290ms/step\n",
      "1/1 [==============================] - 0s 283ms/step\n",
      "1/1 [==============================] - 0s 297ms/step\n",
      "1/1 [==============================] - 0s 287ms/step\n",
      "1/1 [==============================] - 0s 285ms/step\n",
      "1/1 [==============================] - 0s 284ms/step\n",
      "1/1 [==============================] - 0s 285ms/step\n",
      "1/1 [==============================] - 0s 283ms/step\n",
      "1/1 [==============================] - 0s 286ms/step\n",
      "1/1 [==============================] - 0s 291ms/step\n",
      "1/1 [==============================] - 0s 290ms/step\n",
      "1/1 [==============================] - 0s 286ms/step\n",
      "1/1 [==============================] - 0s 286ms/step\n",
      "1/1 [==============================] - 0s 285ms/step\n",
      "1/1 [==============================] - 0s 288ms/step\n",
      "1/1 [==============================] - 0s 288ms/step\n",
      "1/1 [==============================] - 0s 284ms/step\n",
      "1/1 [==============================] - 0s 286ms/step\n",
      "1/1 [==============================] - 0s 283ms/step\n",
      "1/1 [==============================] - 0s 285ms/step\n",
      "1/1 [==============================] - 0s 285ms/step\n",
      "1/1 [==============================] - 0s 287ms/step\n",
      "1/1 [==============================] - 0s 287ms/step\n",
      "1/1 [==============================] - 0s 286ms/step\n",
      "1/1 [==============================] - 0s 284ms/step\n",
      "1/1 [==============================] - 0s 285ms/step\n",
      "1/1 [==============================] - 0s 284ms/step\n",
      "1/1 [==============================] - 0s 284ms/step\n",
      "1/1 [==============================] - 0s 289ms/step\n",
      "1/1 [==============================] - 0s 283ms/step\n",
      "1/1 [==============================] - 0s 294ms/step\n",
      "1/1 [==============================] - 0s 284ms/step\n",
      "1/1 [==============================] - 0s 285ms/step\n",
      "1/1 [==============================] - 0s 284ms/step\n"
     ]
    },
    {
     "data": {
      "text/plain": [
       "(210, 4096)"
      ]
     },
     "execution_count": 46,
     "metadata": {},
     "output_type": "execute_result"
    }
   ],
   "source": [
    "data = {}\n",
    "p = r\"/home/vlad/universitet/ProjektDA/Image-clustering-project/features/flower_features.pkl\"\n",
    "\n",
    "# lop through each image in the dataset\n",
    "for flower in image_paths:\n",
    "    # try to extract the features and update the dictionary\n",
    "    try:\n",
    "        feat = extract_features(flower, model)\n",
    "        data[flower] = feat\n",
    "    # if something fails, save the extracted features as a pickle file (optional)\n",
    "    except:\n",
    "        with open(p, 'wb') as file:\n",
    "            pickle.dump(data, file)\n",
    "\n",
    "\n",
    "# get a list of the filenames\n",
    "filenames = np.array(list(data.keys()))\n",
    "\n",
    "# get a list of just the features\n",
    "feat = np.array(list(data.values()))\n",
    "feat.shape\n",
    "(210, 1, 4096)\n",
    "\n",
    "# reshape so that there are 210 samples of 4096 vectors\n",
    "feat = feat.reshape(-1, 4096)\n",
    "feat.shape\n",
    "(210, 4096)\n",
    "\n"
   ]
  },
  {
   "cell_type": "code",
   "execution_count": 52,
   "id": "4268c749",
   "metadata": {},
   "outputs": [
    {
     "name": "stdout",
     "output_type": "stream",
     "text": [
      "[[0.         0.5909953  1.1337146  ... 0.         0.         0.        ]\n",
      " [0.         0.         0.         ... 0.44416353 0.         0.        ]\n",
      " [0.         0.838642   0.         ... 0.23798046 0.         2.5965295 ]\n",
      " ...\n",
      " [1.4522324  0.         0.         ... 0.         0.         0.89516115]\n",
      " [0.         0.         0.36865452 ... 0.4514351  0.         0.        ]\n",
      " [0.7258918  0.         0.         ... 0.         0.         2.481297  ]]\n"
     ]
    }
   ],
   "source": [
    "print(feat)"
   ]
  },
  {
   "cell_type": "code",
   "execution_count": 53,
   "id": "0b520cb7",
   "metadata": {},
   "outputs": [
    {
     "name": "stdout",
     "output_type": "stream",
     "text": [
      "[[-0.33709022  0.508146    0.569208   ... -0.5683452  -0.5880838\n",
      "  -0.5276706 ]\n",
      " [-0.33709022 -0.43858364 -0.48764735 ... -0.01201404 -0.5880838\n",
      "  -0.5276706 ]\n",
      " [-0.33709022  0.90485716 -0.48764735 ... -0.2702659  -0.5880838\n",
      "   2.0185947 ]\n",
      " ...\n",
      " [ 2.1590397  -0.43858364 -0.48764735 ... -0.5683452  -0.5880838\n",
      "   0.35016185]\n",
      " [-0.33709022 -0.43858364 -0.14398547 ... -0.00290614 -0.5880838\n",
      "  -0.5276706 ]\n",
      " [ 0.91058916 -0.43858364 -0.48764735 ... -0.5683452  -0.5880838\n",
      "   1.9055929 ]]\n"
     ]
    }
   ],
   "source": [
    "# Standardize z\n",
    "scaler = StandardScaler()\n",
    "scaler.fit(feat)\n",
    "feat = scaler.transform(feat)\n",
    "print(feat)"
   ]
  },
  {
   "cell_type": "code",
   "execution_count": 54,
   "id": "fc029e9e",
   "metadata": {},
   "outputs": [
    {
     "name": "stdout",
     "output_type": "stream",
     "text": [
      "(202, 135)\n",
      "[[-15.19459     -1.2965397   -7.3013306  ...  -0.12145817  -4.451663\n",
      "   -1.9141393 ]\n",
      " [-11.912085    -9.539061    -7.208286   ...   3.2372754    5.88469\n",
      "   -1.664389  ]\n",
      " [  9.383682    31.053522   -11.57286    ...  -1.2817128    1.9661008\n",
      "    5.629104  ]\n",
      " ...\n",
      " [ 25.311045     4.818861    -3.9584239  ...   0.6636342    0.529751\n",
      "   -0.15682739]\n",
      " [ -0.06531703 -10.382985     2.248289   ...  -0.08514495  -1.6230881\n",
      "   -0.03792426]\n",
      " [ 26.599028     9.4117365   -5.3938146  ...   0.14646342  -5.1211624\n",
      "    2.2524421 ]]\n"
     ]
    }
   ],
   "source": [
    "pca = PCA(0.95, random_state=22)\n",
    "pca.fit(feat)\n",
    "x = pca.transform(feat)\n",
    "\n",
    "print(x.shape)\n",
    "print(x)\n"
   ]
  },
  {
   "cell_type": "code",
   "execution_count": 64,
   "id": "bad5f0f7",
   "metadata": {},
   "outputs": [],
   "source": [
    "# Kmeans K\n",
    "\n",
    "min_cluster = 2\n",
    "max_cluster = 10\n",
    "sse, score, silhouette_coefficients, labels = perform_KMeans(x, min_cluster, max_cluster)"
   ]
  },
  {
   "cell_type": "code",
   "execution_count": 70,
   "id": "277d85e7",
   "metadata": {},
   "outputs": [
    {
     "name": "stdout",
     "output_type": "stream",
     "text": [
      "None\n",
      "Silhouette coefficient: 2 clusters return best results\n"
     ]
    },
    {
     "name": "stderr",
     "output_type": "stream",
     "text": [
      "/home/vlad/.local/lib/python3.9/site-packages/kneed/knee_locator.py:311: UserWarning: No knee/elbow found\n",
      "  warnings.warn(\"No knee/elbow found\")\n"
     ]
    }
   ],
   "source": [
    "kl = KneeLocator(range(min_cluster, max_cluster+1), sse, curve=\"convex\", direction=\"decreasing\")\n",
    "print(kl.elbow)\n",
    "n_clusters = np.argmax(silhouette_coefficients)+min_cluster\n",
    "print(f\"Silhouette coefficient: {n_clusters} clusters return best results\")"
   ]
  },
  {
   "cell_type": "code",
   "execution_count": 82,
   "id": "5da9ad01",
   "metadata": {},
   "outputs": [
    {
     "name": "stderr",
     "output_type": "stream",
     "text": [
      "/home/vlad/.local/lib/python3.9/site-packages/sklearn/manifold/_t_sne.py:800: FutureWarning: The default initialization in TSNE will change from 'random' to 'pca' in 1.2.\n",
      "  warnings.warn(\n",
      "/home/vlad/.local/lib/python3.9/site-packages/sklearn/manifold/_t_sne.py:810: FutureWarning: The default learning rate in TSNE will change from 200.0 to 'auto' in 1.2.\n",
      "  warnings.warn(\n"
     ]
    },
    {
     "name": "stdout",
     "output_type": "stream",
     "text": [
      "                                          Image Name  ClusterID     X_tsne  \\\n",
      "0  /home/vlad/universitet/ProjektDA/Image-cluster...          0  21.511002   \n",
      "1  /home/vlad/universitet/ProjektDA/Image-cluster...          0  24.809299   \n",
      "2  /home/vlad/universitet/ProjektDA/Image-cluster...          1 -36.795639   \n",
      "3  /home/vlad/universitet/ProjektDA/Image-cluster...          1  53.056442   \n",
      "4  /home/vlad/universitet/ProjektDA/Image-cluster...          0  -6.417378   \n",
      "\n",
      "      Y_tsne  \n",
      "0  16.127745  \n",
      "1  21.391184  \n",
      "2  -6.987594  \n",
      "3  27.326344  \n",
      "4  26.034760  \n"
     ]
    }
   ],
   "source": [
    "# Create Visual Evaluation\n",
    "X = TSNE(n_components=2, perplexity=4).fit_transform(x)\n",
    "cluster_labels = pd.Series(labels[np.argmax(silhouette_coefficients)])\n",
    "tsne_df['ClusterID'] = cluster_labels.values\n",
    "tsne_df[\"X_tsne\"]  = X[:, 0]\n",
    "tsne_df[\"Y_tsne\"] = X[:, 1]"
   ]
  },
  {
   "cell_type": "code",
   "execution_count": 88,
   "id": "5fd7f049",
   "metadata": {},
   "outputs": [
    {
     "name": "stderr",
     "output_type": "stream",
     "text": [
      "/tmp/ipykernel_15503/396374838.py:13: UserWarning: The palette list has more values (10) than needed (2), which may not be intended.\n",
      "  sns.scatterplot(\n"
     ]
    },
    {
     "data": {
      "image/png": "[encoded data removed]",
      "text/plain": [
       "<Figure size 432x288 with 2 Axes>"
      ]
     },
     "metadata": {},
     "output_type": "display_data"
    },
    {
     "data": {
      "image/png": "[encoded data removed]",
      "text/plain": [
       "<Figure size 1152x720 with 1 Axes>"
      ]
     },
     "metadata": {},
     "output_type": "display_data"
    }
   ],
   "source": [
    "#Plotting Elbow Method & Silhouette \n",
    "\n",
    "fig, axes = plt.subplots(2, 1)\n",
    "plt.style.use(\"fivethirtyeight\")\n",
    "axes[0].plot(range(min_cluster, max_cluster+1), sse)\n",
    "axes[0].set_xlabel(\"Number of Clusters\")\n",
    "axes[0].set_ylabel(\"SSE\")\n",
    "axes[1].plot(range(min_cluster, max_cluster+1), silhouette_coefficients)\n",
    "axes[1].set_xlabel(\"Number of Clusters\")\n",
    "axes[1].set_ylabel(\"Silhouette Coefficient\")\n",
    "\n",
    "plt.figure(figsize=(16,10))\n",
    "sns.scatterplot(\n",
    "    x=\"X_tsne\", y=\"Y_tsne\",\n",
    "    hue=\"ClusterID\",\n",
    "    palette=sns.color_palette(\"hls\", 10),\n",
    "    data=tsne_df,\n",
    "    legend=\"full\",\n",
    "    alpha=0.9\n",
    ")\n",
    "plt.show()"
   ]
  },
  {
   "cell_type": "code",
   "execution_count": 98,
   "id": "e28e2aec",
   "metadata": {},
   "outputs": [
    {
     "name": "stdout",
     "output_type": "stream",
     "text": [
      "<PIL.Image.Image image mode=RGBA size=7790x3972 at 0x7F16241A8C70>\n",
      "<PIL.Image.Image image mode=RGBA size=5840x3248 at 0x7F16041F9700>\n"
     ]
    }
   ],
   "source": [
    "for cluster_number in range(n_clusters):\n",
    "    cluster = tsne_df.loc[tsne_df[\"ClusterID\"]==cluster_number]\n",
    "    image_list = []\n",
    "    for image_path in cluster[\"Image Name\"]:\n",
    "        #print(image_path)\n",
    "        image_list.append(image_path)\n",
    "\n",
    "    column_number = int(np.ceil(np.sqrt(len(image_list))))\n",
    "\n",
    "    merged_image = combine_images(columns=column_number, space=10, images=image_list)\n",
    "    \n",
    "    results_path=os.getcwd()\n",
    "    merged_image.save()\n",
    "    print(merged_image)from PIL import Image\n",
    "    merged_image.show()"
   ]
  },
  {
   "cell_type": "code",
   "execution_count": 104,
   "id": "59e6468f",
   "metadata": {},
   "outputs": [],
   "source": [
    "#results_path = r\"/home/vlad/universitet/ProjektDA/Image-clustering-project\"\n",
    "\n",
    "#os.mkdir(\"Results\")"
   ]
  },
  {
   "cell_type": "code",
   "execution_count": 103,
   "id": "9d77c97d",
   "metadata": {},
   "outputs": [
    {
     "name": "stdout",
     "output_type": "stream",
     "text": [
      "/home/vlad/universitet/ProjektDA/Image-clustering-project\n"
     ]
    }
   ],
   "source": [
    "#print(os.getcwd())\n"
   ]
  },
  {
   "cell_type": "code",
   "execution_count": null,
   "id": "82047347",
   "metadata": {},
   "outputs": [],
   "source": []
  }
 ],
 "metadata": {
  "kernelspec": {
   "display_name": "Python 3 (ipykernel)",
   "language": "python",
   "name": "python3"
  },
  "language_info": {
   "codemirror_mode": {
    "name": "ipython",
    "version": 3
   },
   "file_extension": ".py",
   "mimetype": "text/x-python",
   "name": "python",
   "nbconvert_exporter": "python",
   "pygments_lexer": "ipython3",
   "version": "3.9.7"
  }
 },
 "nbformat": 4,
 "nbformat_minor": 5
}
